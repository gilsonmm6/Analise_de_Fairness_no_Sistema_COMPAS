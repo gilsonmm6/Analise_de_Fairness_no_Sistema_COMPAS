{
  "nbformat": 4,
  "nbformat_minor": 0,
  "metadata": {
    "colab": {
      "provenance": [],
      "toc_visible": true
    },
    "kernelspec": {
      "name": "python3",
      "display_name": "Python 3"
    },
    "language_info": {
      "name": "python"
    }
  },
  "cells": [
    {
      "cell_type": "markdown",
      "source": [
        "\n",
        "# Projeto: Análise de Fairness no Sistema COMPAS\n",
        "**Autor**: Gilson Machado Monteiro\n",
        "\n",
        "**Data**: 05/02/2025\n",
        "\n",
        "**Fonte dos Dados**: [ProPublica COMPAS Dataset](https://www.propublica.org/datastore/dataset/compas-recidivism-risk-score-data-and-analysis)\n",
        "\n",
        "---\n",
        "\n",
        "## Introdução\n",
        "### Contexto\n",
        "O algoritmo COMPAS (Correctional Offender Management Profiling for Alternative Sanctions) é amplamente utilizado no sistema judicial norte-americano para prever o risco de reincidência criminal. Estudos anteriores revelaram preocupações quanto a viés racial em suas predições.\n",
        "\n",
        "### Objetivo\n",
        "Investigar se o algoritmo COMPAS apresenta viés racial significativo através de:\n",
        "- Comparação estatística de métricas entre grupos raciais\n",
        "- Análise de fairness seguindo princípios de ética em IA\n",
        "\n",
        "### Referência Teórica\n",
        "Baseado no livro *Estatística Prática para Cientistas de Dados* (Bruce & Bruce, 2019):\n",
        "- Testes de Hipóteses e Effect Size\n",
        "- Validação de Modelos\n",
        "\n",
        "---\n"
      ],
      "metadata": {
        "id": "mN93Hlt0Jnz7"
      }
    },
    {
      "cell_type": "markdown",
      "source": [
        "### Análise de Fairness no Sistema COMPAS"
      ],
      "metadata": {
        "id": "otpQywJwpZyt"
      }
    },
    {
      "cell_type": "markdown",
      "source": [
        " Para este projeto escolhi o dataset COMPAS Recidivism Risk ( [Link)](https://https://www.propublica.org/datastore/dataset/compas-recidivism-risk-score-data-and-analysis), que é ideal para um projeto que envolve análise de viés em modelos, testes de hipóteses e interpretação ética."
      ],
      "metadata": {
        "id": "foRqmnFUpl5M"
      }
    },
    {
      "cell_type": "markdown",
      "source": [
        "## 1. Definição do Problema (Testes de Hipóteses)\n",
        "\n"
      ],
      "metadata": {
        "id": "YcqbHPjF69B9"
      }
    },
    {
      "cell_type": "markdown",
      "source": [
        "\n",
        "### Pergunta: O algoritmo COMPAS trata grupos raciais de forma desigual?\n",
        "### Hipóteses:\n",
        " H0 : Não há diferença significativa nas taxas de falsos positivos (FPR) entre negros e brancos.\n",
        "\n",
        "H1: Há diferença significativa nas taxas de FPR entre negros e brancos."
      ],
      "metadata": {
        "id": "7-cH2iWDrYE2"
      }
    },
    {
      "cell_type": "markdown",
      "source": [
        "## Carregamento e Pré-Processamento"
      ],
      "metadata": {
        "id": "9MhTyGFshgBh"
      }
    },
    {
      "cell_type": "code",
      "source": [
        "import pandas as pd\n",
        "import numpy as np\n",
        "from scipy import stats\n",
        "\n",
        "# Carregar dados\n",
        "url = \"https://raw.githubusercontent.com/propublica/compas-analysis/master/compas-scores-two-years.csv\"\n",
        "df = pd.read_csv(url)\n",
        "\n",
        "# Filtrar colunas relevantes\n",
        "cols = ['race', 'decile_score', 'two_year_recid']\n",
        "df = df[cols].dropna()\n",
        "\n",
        "# Separar grupos raciais para análise\n",
        "black = df[df['race'] == 'African-American']\n",
        "white = df[df['race'] == 'Caucasian']"
      ],
      "metadata": {
        "id": "PlKNqAiBX6Ju"
      },
      "execution_count": null,
      "outputs": []
    },
    {
      "cell_type": "markdown",
      "source": [
        "### Calcular métricas básicas:"
      ],
      "metadata": {
        "id": "vPAEdcBphp7J"
      }
    },
    {
      "cell_type": "code",
      "source": [
        "print(\"Média de scores para negros:\", black['decile_score'].mean())\n",
        "print(\"Média de scores para brancos:\", white['decile_score'].mean())"
      ],
      "metadata": {
        "colab": {
          "base_uri": "https://localhost:8080/"
        },
        "id": "A3TGMWkJYADb",
        "outputId": "9755c561-37cf-49c7-e080-67066e147f6b"
      },
      "execution_count": null,
      "outputs": [
        {
          "output_type": "stream",
          "name": "stdout",
          "text": [
            "Média de scores para negros: 5.3687770562770565\n",
            "Média de scores para brancos: 3.735126324368378\n"
          ]
        }
      ]
    },
    {
      "cell_type": "markdown",
      "source": [
        " Os valores de saída já indicam uma disparidade\n"
      ],
      "metadata": {
        "id": "kGu9s7d9TMFQ"
      }
    },
    {
      "cell_type": "markdown",
      "source": [
        "### Teste de Hipóteses para Comparação de Médias\n",
        "\n",
        " Objetivo: Verificar se a diferença nas médias de scores entre grupos raciais é estatisticamente significativa.\n",
        "\n",
        " Hipóteses:\n",
        "\n",
        " H0: Não há diferença entre as médias (μnegros = μbrancos).\n",
        "\n",
        " H1: Há diferença entre as médias (μnegros ≠ μbrancos)."
      ],
      "metadata": {
        "id": "qlSuQVBmWlmP"
      }
    },
    {
      "cell_type": "code",
      "source": [
        "from scipy.stats import ttest_ind\n",
        "\n",
        "t_stat, p_value = ttest_ind(black['decile_score'], white['decile_score'], equal_var=False)\n",
        "print(f\"t = {t_stat:.2f}, p-value = {p_value:.4f}\")"
      ],
      "metadata": {
        "colab": {
          "base_uri": "https://localhost:8080/"
        },
        "id": "XFcW3MOaXH3-",
        "outputId": "d8889b27-6143-4e98-d2e6-78b2188e6e6e"
      },
      "execution_count": null,
      "outputs": [
        {
          "output_type": "stream",
          "name": "stdout",
          "text": [
            "t = 23.29, p-value = 0.0000\n"
          ]
        }
      ]
    },
    {
      "cell_type": "markdown",
      "source": [
        "Resultado: t = 23.29, p-value = 0.0000\n",
        " Dada a grande diferença nas médias e o tamanho amostral do dataset COMPAS, espera-se um p-value ≈ 0 (rejeição de H0).\n",
        "\n",
        " Interpretação:\n",
        "\n",
        "- A diferença observada não é aleatória e sugere um viés sistêmico no algoritmo."
      ],
      "metadata": {
        "id": "tMLAFFkHXQOn"
      }
    },
    {
      "cell_type": "markdown",
      "source": [
        " Magnitude do Efeito (Cohen's d)\n",
        "- Apenas o p-value não basta, precisamos quantificar quão grande é a diferença."
      ],
      "metadata": {
        "id": "8i7OeJLYid5r"
      }
    },
    {
      "cell_type": "code",
      "source": [
        "def cohen_d(group1, group2):\n",
        "    n1, n2 = len(group1), len(group2)\n",
        "    s1, s2 = np.std(group1, ddof=1), np.std(group2, ddof=1)\n",
        "    s_pooled = np.sqrt(((n1 - 1)*s1**2 + (n2 - 1)*s2**2) / (n1 + n2 - 2))\n",
        "    return (np.mean(group1) - np.mean(group2)) / s_pooled\n",
        "\n",
        "d = cohen_d(black['decile_score'], white['decile_score'])\n",
        "print(f\"Cohen's d: {d:.2f}\")"
      ],
      "metadata": {
        "colab": {
          "base_uri": "https://localhost:8080/"
        },
        "id": "NnEcCgITiZQ6",
        "outputId": "58f303bb-ccc8-46e2-e8b5-92b847037eba"
      },
      "execution_count": null,
      "outputs": [
        {
          "output_type": "stream",
          "name": "stdout",
          "text": [
            "Cohen's d: 0.60\n"
          ]
        }
      ]
    },
    {
      "cell_type": "markdown",
      "source": [
        " Resultado: Cohen's d: 0.60\n",
        "d ≈ 0.6 (efeito médio-grande, segundo Cohen).\n",
        "\n",
        " Interpretação:\n",
        "\n",
        "- A diferença média é equivalente a ~60% de um desvio padrão, indicando uma disparidade substancial."
      ],
      "metadata": {
        "id": "Rz72EbiujYqy"
      }
    },
    {
      "cell_type": "markdown",
      "source": [
        "## Visualização da Distribuição dos scores do COMPAS por raça.\n",
        "- Complementando a análise das médias, o gráfico ajudará a visualizar a dispersão, assimetria e sobreposição das distribuições:"
      ],
      "metadata": {
        "id": "Hmh8f7yIj7ws"
      }
    },
    {
      "cell_type": "code",
      "source": [
        "import matplotlib.pyplot as plt\n",
        "import seaborn as sns\n",
        "\n",
        "# Configurações estéticas\n",
        "plt.figure(figsize=(10, 6))\n",
        "sns.set_style(\"whitegrid\")\n",
        "paleta = {\"African-American\": \"#2c3e50\", \"Caucasian\": \"#3498db\"}\n",
        "\n",
        "# Plotagem das distribuições\n",
        "sns.histplot(\n",
        "    data=df,\n",
        "    x=\"decile_score\",\n",
        "    hue=\"race\",\n",
        "    bins=10,\n",
        "    kde=True,\n",
        "    stat=\"density\",\n",
        "    common_norm=False,\n",
        "    palette=paleta,\n",
        "    alpha=0.6,\n",
        "    hue_order=[\"African-American\", \"Caucasian\"]\n",
        ")\n",
        "\n",
        "# Linhas verticais para as médias\n",
        "plt.axvline(black['decile_score'].mean(), color=paleta[\"African-American\"], linestyle=\"--\", linewidth=2)\n",
        "plt.axvline(white['decile_score'].mean(), color=paleta[\"Caucasian\"], linestyle=\"--\", linewidth=2)\n",
        "\n",
        "# Anotações e legendas\n",
        "plt.title(\"Distribuição de Scores do COMPAS por Raça\", fontsize=14, pad=20)\n",
        "plt.xlabel(\"Decile Score (1-10)\", fontsize=12)\n",
        "plt.ylabel(\"Densidade\", fontsize=12)\n",
        "plt.legend(\n",
        "    title=\"Grupo Racial\",\n",
        "    labels=[f\"Negros (Média = {black['decile_score'].mean():.1f})\",\n",
        "            f\"Brancos (Média = {white['decile_score'].mean():.1f})\"]\n",
        ")\n",
        "\n",
        "# Efeito de Cohen como texto\n",
        "plt.text(\n",
        "    x=7, y=0.25,\n",
        "    s=f\"Cohen's d = {d:.2f}\",\n",
        "    fontsize=12,\n",
        "    bbox=dict(facecolor='white', alpha=0.8)\n",
        ")\n",
        "\n",
        "plt.show()"
      ],
      "metadata": {
        "colab": {
          "base_uri": "https://localhost:8080/",
          "height": 589
        },
        "id": "UDs7K0sGjjvB",
        "outputId": "9d11e029-0d1f-491c-e286-6d6acdf4398f"
      },
      "execution_count": null,
      "outputs": [
        {
          "output_type": "display_data",
          "data": {
            "text/plain": [
              "<Figure size 1000x600 with 1 Axes>"
            ],
            "image/png": "[encoded data removed]"
          },
          "metadata": {}
        }
      ]
    },
    {
      "cell_type": "markdown",
      "source": [
        "### Análise do Gráfico:\n",
        "\n",
        " Comparação de Distribuições\n",
        "\n",
        "- A distribuição para negros é deslocada para a direita, indicando scores mais altos.\n",
        "\n",
        "- A curva dos brancos é mais concentrada em scores baixos/médios (3-5).\n",
        "\n",
        "Sobreposição das Curvas:\n",
        "\n",
        "- A pequena sobreposição (Cohen's d = 0.6) confirma que as diferenças não são triviais.\n",
        "\n",
        "Viés Sistêmico:\n",
        "\n",
        "- A separação clara entre as distribuições sugere que a raça está correlacionada com o score, mesmo que não seja uma feature direta do modelo."
      ],
      "metadata": {
        "id": "w_00VJrIkK2t"
      }
    },
    {
      "cell_type": "markdown",
      "source": [
        "### Análise de Viés nas Decisões\n",
        "\n",
        "- Precisamos verificar se o viés nas médias se traduz em decisões injustas.\n",
        "\n",
        "Exemplo: Supondo que scores > 5 sejam classificados como \"alto risco\":"
      ],
      "metadata": {
        "id": "ZECqTokGj9NF"
      }
    },
    {
      "cell_type": "code",
      "source": [
        "high_risk_black = (black['decile_score'] > 5).mean()\n",
        "high_risk_white = (white['decile_score'] > 5).mean()\n",
        "print(f\"% Alto risco (negros): {high_risk_black*100:.1f}%\")\n",
        "print(f\"% Alto risco (brancos): {high_risk_white*100:.1f}%\")"
      ],
      "metadata": {
        "colab": {
          "base_uri": "https://localhost:8080/"
        },
        "id": "FB1m63K0kK2H",
        "outputId": "6996064a-6264-40d9-8810-ab2d61d4ade5"
      },
      "execution_count": null,
      "outputs": [
        {
          "output_type": "stream",
          "name": "stdout",
          "text": [
            "% Alto risco (negros): 48.9%\n",
            "% Alto risco (brancos): 25.0%\n"
          ]
        }
      ]
    },
    {
      "cell_type": "markdown",
      "source": [
        " ### Resultado: % Alto risco (negros): 48.9% Vs % Alto risco (brancos): 25.0% classificados como alto risco.\n",
        "\n",
        " Viés Estatisticamente Significativo:\n",
        "\n",
        "- A diferença nas médias é não aleatória (p - value ≈ 0) e relevante (Cohen's d = 0.6).\n",
        "\n",
        "Impacto Social:\n",
        "\n",
        "- O algoritmo penaliza desproporcionalmente pessoas negras, mesmo após controle por outros fatores (como demonstrado em estudos do [ProPublica](https://www.propublica.org/article/machine-bias-risk-assessments-in-criminal-sentencing))."
      ],
      "metadata": {
        "id": "UlrIGMKIlCJj"
      }
    },
    {
      "cell_type": "markdown",
      "source": [
        "### Teste de Hipóteses\n",
        "- Avaliar se há diferença significativa nas taxas de falsos positivos (pessoas erroneamente classificadas como reincidentes)."
      ],
      "metadata": {
        "id": "8UTaj71fh8KE"
      }
    },
    {
      "cell_type": "code",
      "source": [
        "# Definir FPR para cada grupo\n",
        "def calculate_fpr(df_group):\n",
        "    tn = len(df_group[(df_group['decile_score'] <= 4) & (df_group['two_year_recid'] == 0)])\n",
        "    fp = len(df_group[(df_group['decile_score'] > 4) & (df_group['two_year_recid'] == 0)])\n",
        "    return fp / (fp + tn)\n",
        "\n",
        "fpr_black = calculate_fpr(black)\n",
        "fpr_white = calculate_fpr(white)\n",
        "\n",
        "# Teste Qui-Quadrado para proporções\n",
        "contingency_table = np.array([\n",
        "    [fpr_black * len(black), (1 - fpr_black) * len(black)],\n",
        "    [fpr_white * len(white), (1 - fpr_white) * len(white)]\n",
        "])\n",
        "\n",
        "chi2, p_value, _, _ = stats.chi2_contingency(contingency_table)\n",
        "print(f\"p-value do teste Qui-Quadrado: {p_value:.4f}\")"
      ],
      "metadata": {
        "colab": {
          "base_uri": "https://localhost:8080/"
        },
        "id": "wOHUO0c3YEuK",
        "outputId": "1e342811-e494-41c1-d78c-8922454903f4"
      },
      "execution_count": null,
      "outputs": [
        {
          "output_type": "stream",
          "name": "stdout",
          "text": [
            "p-value do teste Qui-Quadrado: 0.0000\n"
          ]
        }
      ]
    },
    {
      "cell_type": "markdown",
      "source": [
        "Interpretação: p-value do teste Qui-Quadrado: 0.0000 indica que o valor é tão pequeno que foi arredondado para zero (exemplo: p < 0.0001).\n",
        "\n",
        "- Rejeitamos H0 (há evidências estatísticas fortes de viés racial), com um nível de significância ainda mais extremo do que 1 p ≈ 0.001.\n",
        "\n",
        "No caso do COMPAS, estudos já mostraram p ≈ 0.001, indicando viés contra negros."
      ],
      "metadata": {
        "id": "JHTMpkDVin9x"
      }
    },
    {
      "cell_type": "markdown",
      "source": [
        "### Análise de Fairness"
      ],
      "metadata": {
        "id": "JekX1vd7jT1C"
      }
    },
    {
      "cell_type": "markdown",
      "source": [
        "Calcular métricas de justiça:\n",
        "\n",
        "- Paridade Demográfica: Verificar se a taxa de positivos (alta probabilidade de reincidência) é similar entre grupos.\n",
        "\n",
        "Equalized Odds: Comparar TPR (True Positive Rate) e FPR entre grupos."
      ],
      "metadata": {
        "id": "wHA9c5yMjY2i"
      }
    },
    {
      "cell_type": "code",
      "source": [
        "# Calcular TPR e FPR por grupo\n",
        "def calculate_metrics(df_group):\n",
        "    tp = len(df_group[(df_group['decile_score'] > 4) & (df_group['two_year_recid'] == 1)])\n",
        "    fp = len(df_group[(df_group['decile_score'] > 4) & (df_group['two_year_recid'] == 0)])\n",
        "    tn = len(df_group[(df_group['decile_score'] <= 4) & (df_group['two_year_recid'] == 0)])\n",
        "    fn = len(df_group[(df_group['decile_score'] <= 4) & (df_group['two_year_recid'] == 1)])\n",
        "\n",
        "    tpr = tp / (tp + fn)\n",
        "    fpr = fp / (fp + tn)\n",
        "    return tpr, fpr\n",
        "\n",
        "tpr_black, fpr_black = calculate_metrics(black)\n",
        "tpr_white, fpr_white = calculate_metrics(white)\n",
        "\n",
        "print(f\"TPR (negros): {tpr_black:.2f}, TPR (brancos): {tpr_white:.2f}\")\n",
        "print(f\"FPR (negros): {fpr_black:.2f}, FPR (brancos): {fpr_white:.2f}\")"
      ],
      "metadata": {
        "colab": {
          "base_uri": "https://localhost:8080/"
        },
        "id": "cxSZbOZ9YHCM",
        "outputId": "5edcb805-6aea-4e7a-eb0f-9cc90d939d0b"
      },
      "execution_count": null,
      "outputs": [
        {
          "output_type": "stream",
          "name": "stdout",
          "text": [
            "TPR (negros): 0.72, TPR (brancos): 0.52\n",
            "FPR (negros): 0.45, FPR (brancos): 0.23\n"
          ]
        }
      ]
    },
    {
      "cell_type": "markdown",
      "source": [
        "Vamos interpretar esses resultados à luz dos conceitos do livro Estatística Prática para Cientistas de Dados, focando em dois pilares principais: validação de modelos e análise de viés.\n",
        "- Os resultados indicam:\n",
        "\n",
        "      TPR (negros): 0.72, TPR (brancos): 0.52  \n",
        "      FPR (negros): 0.45, FPR (brancos): 0.23  \n",
        "      p-value do teste Qui-Quadrado: 0.001  \n",
        "\n",
        "Análise das Métricas de Desempenho:\n",
        "\n",
        "True Positive Rate (TPR):\n",
        "\n",
        "- Negros (72%): O modelo identifica corretamente 72% dos indivíduos que reincidiram.\n",
        "\n",
        "- Brancos (52%): O modelo identifica apenas 52% dos reincidentes.\n",
        "\n",
        "Interpretação:\n",
        "\n",
        "- Há uma disparidade de 20% na sensibilidade entre grupos.\n",
        "\n",
        "- Isso sugere que o modelo é menos eficaz para brancos na detecção de reincidentes.\n",
        "\n",
        "False Positive Rate (FPR):\n",
        "\n",
        "- Negros (45%): 45% dos não reincidentes são erroneamente classificados como de alto risco.\n",
        "\n",
        "- Brancos (23%): Apenas 23% dos não reincidentes recebem falsos alertas.\n",
        "\n",
        "Interpretação:\n",
        "\n",
        "- A taxa de falsos positivos para negros é quase o dobro da dos brancos.\n",
        "\n",
        "- Isso implica que pessoas negras têm 2x mais chances de serem injustamente penalizadas.\n",
        "\n",
        "No COMPAS, estudos anteriores mostram FPR de 44% para negros vs. 23% para brancos, violando a igualdade de taxas de erro.\n",
        "\n",
        "- Viés Estatisticamente Significativo: O teste Qui-Quadrado e as métricas de fairness confirmam o viés racial."
      ],
      "metadata": {
        "id": "m1oYq3EWjq1K"
      }
    },
    {
      "cell_type": "markdown",
      "source": [
        "## Visualização das Disparidades"
      ],
      "metadata": {
        "id": "ewzoeGXll8Sk"
      }
    },
    {
      "cell_type": "code",
      "source": [
        "import matplotlib.pyplot as plt\n",
        "\n",
        "# Dados para plotagem\n",
        "metrics = ['TPR', 'FPR']\n",
        "black_metrics = [0.72, 0.45]\n",
        "white_metrics = [0.52, 0.23]\n",
        "\n",
        "# Plot de barras comparativas\n",
        "plt.figure(figsize=(8, 4))\n",
        "x = np.arange(len(metrics))\n",
        "plt.bar(x - 0.2, black_metrics, width=0.4, label='Negros', color='navy')\n",
        "plt.bar(x + 0.2, white_metrics, width=0.4, label='Brancos', color='skyblue')\n",
        "\n",
        "plt.xticks(x, metrics)\n",
        "plt.ylabel('Taxa (%)')\n",
        "plt.title('Disparidade de TPR e FPR entre Grupos Raciais')\n",
        "plt.legend()\n",
        "plt.show()"
      ],
      "metadata": {
        "colab": {
          "base_uri": "https://localhost:8080/",
          "height": 391
        },
        "id": "Vm5VeA_JlzEM",
        "outputId": "0991c0a9-c9b9-4020-a928-85ad991b1c2e"
      },
      "execution_count": null,
      "outputs": [
        {
          "output_type": "display_data",
          "data": {
            "text/plain": [
              "<Figure size 800x400 with 1 Axes>"
            ],
            "image/png": "[encoded data removed]"
          },
          "metadata": {}
        }
      ]
    },
    {
      "cell_type": "markdown",
      "source": [
        "## Conclusões:\n",
        "\n",
        "\n",
        "O sistema COMPAS, conforme analisado, reproduz viés racial sistêmico, violando princípios estatísticos e éticos. Projetos como este destacam a importância de:\n",
        "\n",
        "- Validar modelos não só por métricas técnicas, mas por critérios de justiça.\n",
        "\n",
        "- Comunicar resultados de forma clara para stakeholders não técnicos.\n",
        "\n",
        "- Implementar soluções técnicas que mitiguem danos sociais.\n",
        "\n",
        "### Principais Achados\n",
        "1. **Viés Estatisticamente Significativo**  \n",
        "   - Diferença de 1.7 pontos nas médias (d=0.60)\n",
        "   - FPR 2x maior para negros (45% vs 23%)\n",
        "\n",
        "2. **Impacto Social**  \n",
        "   - Risco de perpetuação de desigualdades sistêmicas\n",
        "   - Potencial violação de princípios éticos de IA\n",
        "\n",
        "### Recomendações\n",
        "1. **Técnicas de Mitigação**  \n",
        "   - Reponderação de classes\n",
        "   - Ajuste de thresholds por grupo\n",
        "\n",
        "2. **Governança**  \n",
        "   - Auditorias regulares de fairness\n",
        "   - Transparência pública dos algoritmos\n",
        "\n",
        "---\n",
        "\n",
        "## Referências\n",
        "1. Bruce, P., & Bruce, A. (2019). *Estatística Prática para Cientistas de Dados*. Alta Books.\n",
        "2. ProPublica (2016). [Machine Bias](https://www.propublica.org/article/machine-bias-risk-assessments-in-criminal-sentencing)\n",
        "3. Friedler et al. (2019). *A Comparative Study of Fairness-Enhancing Interventions in Machine Learning*"
      ],
      "metadata": {
        "id": "CT6MsKKMOS_0"
      }
    }
  ]
}